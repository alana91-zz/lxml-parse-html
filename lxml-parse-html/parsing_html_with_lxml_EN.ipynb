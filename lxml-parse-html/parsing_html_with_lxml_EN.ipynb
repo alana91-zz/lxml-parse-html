{
 "cells": [
  {
   "cell_type": "markdown",
   "metadata": {
    "slideshow": {
     "slide_type": "slide"
    }
   },
   "source": [
    "# Parse of HTML documents with the lxml lib"
   ]
  },
  {
   "cell_type": "markdown",
   "metadata": {
    "slideshow": {
     "slide_type": "slide"
    }
   },
   "source": [
    "![Logo da Aurum](aurum.gif)\n",
    "\n",
    "- Dev at Aurum, working with extraction, processing and analysis of legal data\n",
    "- Majoring in Information Systems\n",
    "- Other cool things: cats, art, videogames, social justice, traveling, Wikipedia"
   ]
  },
  {
   "cell_type": "markdown",
   "metadata": {
    "slideshow": {
     "slide_type": "slide"
    }
   },
   "source": [
    "## lxml\n",
    "\n",
    "[Link] (https://lxml.de/)\n",
    "- Library (or _toolkit_) to process XML and HTML\n",
    "- New _binding_ for the C libs libxml2 and libxslt, which already had _bindings_ for python, but they were considered complex and not very pythonic\n",
    "- I came across it while working at Aurum on parsing complex HTML documents\n",
    "\n",
    "_Binding_: interface to enable the use of something written in a programming language with another language"
   ]
  },
  {
   "cell_type": "markdown",
   "metadata": {
    "slideshow": {
     "slide_type": "slide"
    }
   },
   "source": [
    "## Let's see code!\n",
    "This talk tried to follow, as far as possible, the topic order of the wondeful [lxml documentation](https://lxml.de/4.3/lxmldoc-4.3.0.pdf), so that it may seem more familiar to you if you wish to consult it."
   ]
  },
  {
   "cell_type": "markdown",
   "metadata": {
    "slideshow": {
     "slide_type": "slide"
    }
   },
   "source": [
    "## What we are going to parse\n",
    "\n",
    "[Folha informativa - Violência contra as mulheres](https://www.paho.org/bra/index.php?option=com_content&view=article&id=5669:folha-informativa-violencia-contra-as-mulheres&Itemid=820) from OPAS/WHO Brazil (World Health Organization)"
   ]
  },
  {
   "cell_type": "markdown",
   "metadata": {
    "slideshow": {
     "slide_type": "slide"
    }
   },
   "source": [
    "## What we're going to need\n",
    "`Etree` is a tree of HTML elements, which we can iterate over, edit, search, etc. By parsing our HTML with the `html` module, we can create our tree."
   ]
  },
  {
   "cell_type": "code",
   "execution_count": 122,
   "metadata": {
    "slideshow": {
     "slide_type": "-"
    }
   },
   "outputs": [],
   "source": [
    "import lxml.html\n",
    "\n",
    "\n",
    "tree = lxml.html.parse('opas_violencia_contra_mulheres.html')"
   ]
  },
  {
   "cell_type": "code",
   "execution_count": 123,
   "metadata": {
    "slideshow": {
     "slide_type": "-"
    }
   },
   "outputs": [
    {
     "data": {
      "text/plain": [
       "lxml.etree._ElementTree"
      ]
     },
     "execution_count": 123,
     "metadata": {},
     "output_type": "execute_result"
    }
   ],
   "source": [
    "type(tree)"
   ]
  },
  {
   "cell_type": "code",
   "execution_count": 124,
   "metadata": {
    "scrolled": true,
    "slideshow": {
     "slide_type": "slide"
    }
   },
   "outputs": [
    {
     "data": {
      "text/plain": [
       "b'<!DOCTYPE html>\\n<html xmlns=\"https://www.w3.org/1999/xhtml\" xml:lang=\"pt-br\" lang=\"pt-br\" dir=\"ltr\">\\n<head>\\n\\t<meta http-equiv=\"X-UA-Compatible\" content=\"IE=edge\">\\n \\n\\t<script type=\"text/javascript\">\\n\\t\\tvar pathInfo = {\\n\\t\\t\\tbase: \\'templates/Responsive/\\',\\n\\t\\t\\tcss: \\'css/\\',\\n\\t\\t\\tjs: \\'js/\\',\\n\\t\\t\\tswf: \\'swf/\\',\\n\\t\\t}\\n\\t</script>\\n\\n\\t<meta name=\"viewport\" content=\"width=device-width, initial-scale=1.0\">\\n\\t<!-- <meta name=\"theme-color\" content=\"#0099d9\" /> -->\\n\\t<meta http-equiv=\"content-type\" content=\"text/html; charse'"
      ]
     },
     "execution_count": 124,
     "metadata": {},
     "output_type": "execute_result"
    }
   ],
   "source": [
    "lxml.html.tostring(tree)[:500]"
   ]
  },
  {
   "cell_type": "markdown",
   "metadata": {
    "slideshow": {
     "slide_type": "slide"
    }
   },
   "source": [
    "### There's plenty of stuff that doesn't interest us. What we want is what we have in the _body_\n",
    "First, let's get to the _root_ of our tree. From it we can reach the _body_."
   ]
  },
  {
   "cell_type": "code",
   "execution_count": 125,
   "metadata": {
    "slideshow": {
     "slide_type": "slide"
    }
   },
   "outputs": [
    {
     "data": {
      "text/plain": [
       "<Element html at 0x7f7e25b90728>"
      ]
     },
     "execution_count": 125,
     "metadata": {},
     "output_type": "execute_result"
    }
   ],
   "source": [
    "root = tree.getroot()\n",
    "root"
   ]
  },
  {
   "cell_type": "code",
   "execution_count": 126,
   "metadata": {
    "slideshow": {
     "slide_type": "-"
    }
   },
   "outputs": [
    {
     "data": {
      "text/plain": [
       "<Element body at 0x7f7e25b90ae8>"
      ]
     },
     "execution_count": 126,
     "metadata": {},
     "output_type": "execute_result"
    }
   ],
   "source": [
    "body = root.body\n",
    "body"
   ]
  },
  {
   "cell_type": "code",
   "execution_count": 127,
   "metadata": {
    "slideshow": {
     "slide_type": "slide"
    }
   },
   "outputs": [
    {
     "data": {
      "text/plain": [
       "b'<body itemscope itemtype=\"https://schema.org/WebPage\">\\n<!-- Google Tag Manager -->\\n<noscript><iframe src=\"//www.googletagmanager.com/ns.html?id=GTM-MDCJXB\" title=\"Google Tag Manager\" style=\"height:0px;width:0px;display:none;visibility:hidden\"><span style=\"visibility:hidden\">Google Tag</span></iframe></noscript>\\n<script type=\"text/javascript\">(function(w,d,s,l,i){w[l]=w[l]||[];w[l].push({\\'gtm.start\\':\\nnew Date().getTime(),event:\\'gtm.js\\'});var f=d.getElementsByTagName(s)[0],\\nj=d.createElement(s),dl'"
      ]
     },
     "execution_count": 127,
     "metadata": {},
     "output_type": "execute_result"
    }
   ],
   "source": [
    "lxml.html.tostring(body)[:500]"
   ]
  },
  {
   "cell_type": "markdown",
   "metadata": {
    "slideshow": {
     "slide_type": "slide"
    }
   },
   "source": [
    "### Now that we have the _body_, we can extract some information\n",
    "We can use `etree` methods, like` findall`, or the XPath itself. There is also a module called `cssselect`, which needs to be installed separately."
   ]
  },
  {
   "cell_type": "markdown",
   "metadata": {
    "slideshow": {
     "slide_type": "slide"
    }
   },
   "source": [
    "- With `findall`, we can find all elements corresponding to a simple XPath expression\n",
    "- With `find`, only the first correpondent element is  brought\n",
    "- With `findtext`,  the returned value is the textual content of the corresponding first element\n",
    "- With `iterfind`, our return is a` generator` of all corresponding elements"
   ]
  },
  {
   "cell_type": "code",
   "execution_count": 128,
   "metadata": {
    "slideshow": {
     "slide_type": "slide"
    }
   },
   "outputs": [
    {
     "data": {
      "text/plain": [
       "[<Element p at 0x7f7e25bc3138>,\n",
       " <Element p at 0x7f7e25bc3188>,\n",
       " <Element p at 0x7f7e25bc31d8>]"
      ]
     },
     "execution_count": 128,
     "metadata": {},
     "output_type": "execute_result"
    }
   ],
   "source": [
    "body.findall('.//p')[:3]"
   ]
  },
  {
   "cell_type": "code",
   "execution_count": 129,
   "metadata": {
    "slideshow": {
     "slide_type": "-"
    }
   },
   "outputs": [
    {
     "data": {
      "text/plain": [
       "<Element p at 0x7f7e25bc3138>"
      ]
     },
     "execution_count": 129,
     "metadata": {},
     "output_type": "execute_result"
    }
   ],
   "source": [
    "body.find('.//p')"
   ]
  },
  {
   "cell_type": "code",
   "execution_count": 130,
   "metadata": {
    "slideshow": {
     "slide_type": "-"
    }
   },
   "outputs": [
    {
     "data": {
      "text/plain": [
       "'Brasil'"
      ]
     },
     "execution_count": 130,
     "metadata": {},
     "output_type": "execute_result"
    }
   ],
   "source": [
    "body.findtext('.//p')"
   ]
  },
  {
   "cell_type": "code",
   "execution_count": 131,
   "metadata": {
    "slideshow": {
     "slide_type": "-"
    }
   },
   "outputs": [
    {
     "data": {
      "text/plain": [
       "<generator at 0x7f7e25ba04c8>"
      ]
     },
     "execution_count": 131,
     "metadata": {},
     "output_type": "execute_result"
    }
   ],
   "source": [
    "body.iterfind('.//p')"
   ]
  },
  {
   "cell_type": "markdown",
   "metadata": {
    "slideshow": {
     "slide_type": "slide"
    }
   },
   "source": [
    "### However, with XPath, we have access to all features, not just simple expressions. So let's use XPath to find some statistics in the text (percentages)."
   ]
  },
  {
   "cell_type": "code",
   "execution_count": 132,
   "metadata": {
    "slideshow": {
     "slide_type": "slide"
    }
   },
   "outputs": [
    {
     "data": {
      "text/plain": [
       "['\\n\\t\\tjQuery(window).on(\\'load\\', function () {\\n\\t\\tjQuery(\\'iframe[id^=twitter-widget-]\\').each(function () {\\n\\t\\tvar head = jQuery(this).contents().find(\\'head\\');\\n\\t\\tif (head.length) {\\n\\t\\thead.append(\\'<style type=\"text/css\">.timeline { max-width: 100% !important; width: 100% !important; } .timeline .stream { max-width: none !important; width: 100% !important; }</style>\\');\\n\\t\\t}\\n\\t\\tjQuery(\\'.twitter-timeline\\').append(jQuery(\\'\\'));\\n\\t\\t})\\n\\t\\t});\\n\\t',\n",
       " 'Estimativas globais publicadas pela OMS indicam que aproximadamente uma em cada três mulheres (35%) em todo o mundo sofreram violência física e/ou sexual por parte do parceiro ou de terceiros durante a vida.',\n",
       " 'A maior parte dos casos é de violência infligida por parceiros. Em todo o mundo, quase um terço (30%) das mulheres que estiveram em um relacionamento relatam ter sofrido alguma forma de violência física e/ou sexual na vida por parte de seu parceiro.',\n",
       " 'Globalmente, 38% dos assassinatos de mulheres são cometidos por um parceiro masculino.',\n",
       " 'Entre 15% das mulheres no Japão e 71% das mulheres na Etiópia relataram terem sofrido violência física e/ou sexual por parte de um parceiro em sua vida;']"
      ]
     },
     "execution_count": 132,
     "metadata": {},
     "output_type": "execute_result"
    }
   ],
   "source": [
    "body.xpath('//*/text()[contains(., \"%\")]')[:5]"
   ]
  },
  {
   "cell_type": "markdown",
   "metadata": {
    "slideshow": {
     "slide_type": "slide"
    }
   },
   "source": [
    "### Our first result has nothing to do with statistics, it's a _script_ element. We can take this opportunity to remove all the scripts, so that our tree gets cleaner."
   ]
  },
  {
   "cell_type": "code",
   "execution_count": 133,
   "metadata": {
    "slideshow": {
     "slide_type": "slide"
    }
   },
   "outputs": [
    {
     "data": {
      "text/plain": [
       "[]"
      ]
     },
     "execution_count": 133,
     "metadata": {},
     "output_type": "execute_result"
    }
   ],
   "source": [
    "from lxml.html.clean import Cleaner\n",
    "\n",
    "\n",
    "cleaner = Cleaner(scripts=True)\n",
    "body = cleaner.clean_html(body)\n",
    "body.findall('.//script')"
   ]
  },
  {
   "cell_type": "code",
   "execution_count": 134,
   "metadata": {
    "slideshow": {
     "slide_type": "slide"
    }
   },
   "outputs": [
    {
     "data": {
      "text/plain": [
       "['Estimativas globais publicadas pela OMS indicam que aproximadamente uma em cada três mulheres (35%) em todo o mundo sofreram violência física e/ou sexual por parte do parceiro ou de terceiros durante a vida.',\n",
       " 'A maior parte dos casos é de violência infligida por parceiros. Em todo o mundo, quase um terço (30%) das mulheres que estiveram em um relacionamento relatam ter sofrido alguma forma de violência física e/ou sexual na vida por parte de seu parceiro.',\n",
       " 'Globalmente, 38% dos assassinatos de mulheres são cometidos por um parceiro masculino.']"
      ]
     },
     "execution_count": 134,
     "metadata": {},
     "output_type": "execute_result"
    }
   ],
   "source": [
    "body.xpath('//*/text()[contains(., \"%\")]')[:3]"
   ]
  },
  {
   "cell_type": "markdown",
   "metadata": {
    "slideshow": {
     "slide_type": "slide"
    }
   },
   "source": [
    "### Suppose we only wanted statistics from Brazil. In fact none refers to Brazil alone, but _suppose_ that weren't the case. If we had a large document, it could be useful to eliminate the elements that didn't refer to Brazil"
   ]
  },
  {
   "cell_type": "code",
   "execution_count": 135,
   "metadata": {
    "slideshow": {
     "slide_type": "slide"
    }
   },
   "outputs": [
    {
     "data": {
      "text/plain": [
       "[]"
      ]
     },
     "execution_count": 135,
     "metadata": {},
     "output_type": "execute_result"
    }
   ],
   "source": [
    "percentage_els = body.xpath('//*[contains(., \"%\")]')\n",
    "\n",
    "for el in percentage_els:\n",
    "    text = el.text_content()\n",
    "    if 'Brasil' not in text and el.tag in ('li', 'p'):\n",
    "        el.getparent().remove(el)\n",
    "        \n",
    "body.xpath('//*[contains(., \"%\")]')"
   ]
  },
  {
   "cell_type": "markdown",
   "metadata": {
    "slideshow": {
     "slide_type": "slide"
    }
   },
   "source": [
    "### Dissecting\n",
    "- `text = el.text_content ()`: getting the text from an element\n",
    "- `if 'Brazil' not in text and el.tag in ('li', 'p')`: if \"Brazil\" isn't in the text and the element is a list item or a paragraph\n",
    "- `el.getparent (). remove (el)`: getting the parent element of our element and deleting our element (this is how we remove a specific element)\n",
    "\n",
    "**Attention!** Our `percentage_els` list still contains our elements. It's a copy of part of the _body_ and remains unchanged."
   ]
  },
  {
   "cell_type": "code",
   "execution_count": 136,
   "metadata": {
    "slideshow": {
     "slide_type": "slide"
    }
   },
   "outputs": [
    {
     "data": {
      "text/plain": [
       "'A violência por parte de parceiro e a violência sexual são perpetradas principalmente por homens contra as mulheres. O abuso sexual infantil afeta meninos e meninas. Estudos internacionais revelam que aproximadamente 20% das mulheres e 5%-10% dos homens relatam terem sido vítimas de violência sexual na infância. A violência entre os jovens, incluindo em relacionamentos, é também um grande problema. \\xa0'"
      ]
     },
     "execution_count": 136,
     "metadata": {},
     "output_type": "execute_result"
    }
   ],
   "source": [
    "percentage_els[-2].text_content()"
   ]
  },
  {
   "cell_type": "markdown",
   "metadata": {
    "slideshow": {
     "slide_type": "slide"
    }
   },
   "source": [
    "### If we want to find elements by id or class, we don't have to use XPath. We can use the `find_class` and` get_element_by_id` methods"
   ]
  },
  {
   "cell_type": "code",
   "execution_count": 137,
   "metadata": {
    "slideshow": {
     "slide_type": "slide"
    }
   },
   "outputs": [
    {
     "name": "stdout",
     "output_type": "stream",
     "text": [
      "Principais informações \n",
      "Magnitude do problema\n",
      "Fatores de risco \n",
      "Consequências para a saúde   \n",
      "Impacto em crianças \n",
      "Custos sociais e econômicos  \n",
      "Prevenção e resposta  \n",
      "Resposta da OMS\n",
      "Dia Laranja\n"
     ]
    }
   ],
   "source": [
    "topics = body.find_class('bkbutton')\n",
    "\n",
    "for el in topics:\n",
    "    print(el.text_content())"
   ]
  },
  {
   "cell_type": "code",
   "execution_count": 138,
   "metadata": {
    "slideshow": {
     "slide_type": "-"
    }
   },
   "outputs": [
    {
     "data": {
      "text/plain": [
       "<Element footer at 0x7f7e25bad598>"
      ]
     },
     "execution_count": 138,
     "metadata": {},
     "output_type": "execute_result"
    }
   ],
   "source": [
    "body.get_element_by_id('footer')"
   ]
  },
  {
   "cell_type": "markdown",
   "metadata": {
    "slideshow": {
     "slide_type": "slide"
    }
   },
   "source": [
    "### Since we just made use of `get_parent`, let's see some ways we can \"navigate\" through our tree with `etree` methods"
   ]
  },
  {
   "cell_type": "markdown",
   "metadata": {
    "slideshow": {
     "slide_type": "slide"
    }
   },
   "source": [
    "Getting child elements"
   ]
  },
  {
   "cell_type": "code",
   "execution_count": 139,
   "metadata": {
    "slideshow": {
     "slide_type": "-"
    }
   },
   "outputs": [
    {
     "data": {
      "text/plain": [
       "[<Element noscript at 0x7f7e25b905e8>, <Element div at 0x7f7e25bc3cc8>]"
      ]
     },
     "execution_count": 139,
     "metadata": {},
     "output_type": "execute_result"
    }
   ],
   "source": [
    "body.getchildren()"
   ]
  },
  {
   "cell_type": "markdown",
   "metadata": {
    "slideshow": {
     "slide_type": "slide"
    }
   },
   "source": [
    "Iterating over descendants"
   ]
  },
  {
   "cell_type": "code",
   "execution_count": 140,
   "metadata": {
    "slideshow": {
     "slide_type": "-"
    }
   },
   "outputs": [
    {
     "data": {
      "text/plain": [
       "[<Element noscript at 0x7f7e25b905e8>,\n",
       " <Element span at 0x7f7e25b90818>,\n",
       " <Element div at 0x7f7e25bc3cc8>,\n",
       " <Element div at 0x7f7e25bad548>,\n",
       " <Element header at 0x7f7e25bad5e8>]"
      ]
     },
     "execution_count": 140,
     "metadata": {},
     "output_type": "execute_result"
    }
   ],
   "source": [
    "list(body.iterdescendants())[:5]"
   ]
  },
  {
   "cell_type": "markdown",
   "metadata": {
    "slideshow": {
     "slide_type": "slide"
    }
   },
   "source": [
    "Iterating over ancestors"
   ]
  },
  {
   "cell_type": "code",
   "execution_count": 141,
   "metadata": {
    "slideshow": {
     "slide_type": "-"
    }
   },
   "outputs": [
    {
     "data": {
      "text/plain": [
       "[<Element body at 0x7f7e25bc3098>]"
      ]
     },
     "execution_count": 141,
     "metadata": {},
     "output_type": "execute_result"
    }
   ],
   "source": [
    "list(body.getchildren()[0].iterancestors())"
   ]
  },
  {
   "cell_type": "markdown",
   "metadata": {
    "slideshow": {
     "slide_type": "slide"
    }
   },
   "source": [
    "Getting the next element"
   ]
  },
  {
   "cell_type": "code",
   "execution_count": 142,
   "metadata": {
    "slideshow": {
     "slide_type": "-"
    }
   },
   "outputs": [
    {
     "data": {
      "text/plain": [
       "<Element div at 0x7f7e25bc3cc8>"
      ]
     },
     "execution_count": 142,
     "metadata": {},
     "output_type": "execute_result"
    }
   ],
   "source": [
    "body.getchildren()[0].getnext()"
   ]
  },
  {
   "cell_type": "markdown",
   "metadata": {
    "slideshow": {
     "slide_type": "slide"
    }
   },
   "source": [
    "Iterating over the next siblings"
   ]
  },
  {
   "cell_type": "code",
   "execution_count": 143,
   "metadata": {
    "slideshow": {
     "slide_type": "-"
    }
   },
   "outputs": [
    {
     "data": {
      "text/plain": [
       "[<Element div at 0x7f7e25bc3cc8>]"
      ]
     },
     "execution_count": 143,
     "metadata": {},
     "output_type": "execute_result"
    }
   ],
   "source": [
    "list(body.getchildren()[0].itersiblings())"
   ]
  },
  {
   "cell_type": "markdown",
   "metadata": {
    "slideshow": {
     "slide_type": "slide"
    }
   },
   "source": [
    "Getting the previous element"
   ]
  },
  {
   "cell_type": "code",
   "execution_count": 144,
   "metadata": {
    "slideshow": {
     "slide_type": "-"
    }
   },
   "outputs": [
    {
     "data": {
      "text/plain": [
       "<Element noscript at 0x7f7e25b905e8>"
      ]
     },
     "execution_count": 144,
     "metadata": {},
     "output_type": "execute_result"
    }
   ],
   "source": [
    "body.getchildren()[1].getprevious()"
   ]
  },
  {
   "cell_type": "markdown",
   "metadata": {
    "slideshow": {
     "slide_type": "slide"
    }
   },
   "source": [
    "Getting the original tree"
   ]
  },
  {
   "cell_type": "code",
   "execution_count": 145,
   "metadata": {
    "slideshow": {
     "slide_type": "-"
    }
   },
   "outputs": [
    {
     "data": {
      "text/plain": [
       "<lxml.etree._ElementTree at 0x7f7e25a8fa08>"
      ]
     },
     "execution_count": 145,
     "metadata": {},
     "output_type": "execute_result"
    }
   ],
   "source": [
    "body.getroottree()"
   ]
  },
  {
   "cell_type": "markdown",
   "metadata": {
    "slideshow": {
     "slide_type": "slide"
    }
   },
   "source": [
    "# Thanks :)\n",
    "<br>\n",
    "\n",
    "- GitHub: alana91\n",
    "- Telegram: AlanaDB\n",
    "- E-mail: alanadomitbittar@pm.me\n",
    "- Linkedin: https://www.linkedin.com/in/alanadomitbittar/"
   ]
  }
 ],
 "metadata": {
  "celltoolbar": "Slideshow",
  "kernelspec": {
   "display_name": "Python 3",
   "language": "python",
   "name": "python3"
  },
  "language_info": {
   "codemirror_mode": {
    "name": "ipython",
    "version": 3
   },
   "file_extension": ".py",
   "mimetype": "text/x-python",
   "name": "python",
   "nbconvert_exporter": "python",
   "pygments_lexer": "ipython3",
   "version": "3.5.3"
  }
 },
 "nbformat": 4,
 "nbformat_minor": 2
}
