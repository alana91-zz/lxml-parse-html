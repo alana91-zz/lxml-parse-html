{
 "cells": [
  {
   "cell_type": "markdown",
   "metadata": {
    "slideshow": {
     "slide_type": "slide"
    }
   },
   "source": [
    "# Parse de documentos HTML com a biblioteca lxml"
   ]
  },
  {
   "cell_type": "markdown",
   "metadata": {
    "slideshow": {
     "slide_type": "slide"
    }
   },
   "source": [
    "![Logo da Aurum](aurum.gif)\n",
    "\n",
    "- Dev na Aurum, trabalhando com extração, processamento e análise de dados jurídicos\n",
    "- Graduanda de Sistemas de Informação\n",
    "- Outras coisas legais: gatos, arte, vídeogames, justiça social, viajar, a Wikipédia"
   ]
  },
  {
   "cell_type": "markdown",
   "metadata": {
    "slideshow": {
     "slide_type": "slide"
    }
   },
   "source": [
    "## lxml\n",
    "\n",
    "[Link](https://lxml.de/)  (No momento está redirecionando para a campanha _Fridays for future_)\n",
    "\n",
    "- Biblioteca (ou _toolkit_) para processar XML e HTML\n",
    "- Novo _binding_ para libs em C com mesmo propósito libxml2 e libxslt, que, apesar de terem _bindings_ para python, são complexos e não pythônicos\n",
    "- Surgiu como alternativa durante trabalho na Aurum para parse complexo de documentos HTML\n",
    "\n",
    "\n",
    "_Binding_: interface para possibilitar que algo escrito em uma linguagem de programação seja usado com outra linguagem"
   ]
  },
  {
   "cell_type": "markdown",
   "metadata": {
    "slideshow": {
     "slide_type": "slide"
    }
   },
   "source": [
    "## Vamos ver código!\n",
    "Esta _talk_ procurou seguir, na medida do possível, a ordem da maravilhosa [documentação do lxml](https://lxml.de/4.3/lxmldoc-4.3.0.pdf), para que ela lhes pareça mais familiar, caso desejem consultá-la."
   ]
  },
  {
   "cell_type": "markdown",
   "metadata": {
    "slideshow": {
     "slide_type": "slide"
    }
   },
   "source": [
    "## O que vamos parsear\n",
    "\n",
    "[Folha informativa - Violência contra as mulheres](https://www.paho.org/bra/index.php?option=com_content&view=article&id=5669:folha-informativa-violencia-contra-as-mulheres&Itemid=820) da OPAS/OMS Brasil (Organização Mundial de Saúde)"
   ]
  },
  {
   "cell_type": "markdown",
   "metadata": {
    "slideshow": {
     "slide_type": "slide"
    }
   },
   "source": [
    "## Do que vamos precisar\n",
    "A `etree` é uma árvore dos elementos do nosso HTML, que podemos iterar, editar, buscar, etc. Parseando nosso HTML com o módulo `html`, vamos criar nossa árvore."
   ]
  },
  {
   "cell_type": "code",
   "execution_count": 33,
   "metadata": {
    "slideshow": {
     "slide_type": "subslide"
    }
   },
   "outputs": [],
   "source": [
    "import lxml.html"
   ]
  },
  {
   "cell_type": "code",
   "execution_count": 34,
   "metadata": {
    "slideshow": {
     "slide_type": "subslide"
    }
   },
   "outputs": [],
   "source": [
    "tree = lxml.html.parse('opas_violencia_contra_mulheres.html')"
   ]
  },
  {
   "cell_type": "code",
   "execution_count": 35,
   "metadata": {
    "slideshow": {
     "slide_type": "subslide"
    }
   },
   "outputs": [
    {
     "data": {
      "text/plain": [
       "lxml.etree._ElementTree"
      ]
     },
     "execution_count": 35,
     "metadata": {},
     "output_type": "execute_result"
    }
   ],
   "source": [
    "type(tree)"
   ]
  },
  {
   "cell_type": "code",
   "execution_count": 52,
   "metadata": {
    "slideshow": {
     "slide_type": "subslide"
    }
   },
   "outputs": [
    {
     "data": {
      "text/plain": [
       "b'<!DOCTYPE html>\\n<html xmlns=\"https://www.w3.org/1999/xhtml\" xml:lang=\"pt-br\" lang=\"pt-br\" dir=\"ltr\">\\n<head>\\n\\t<meta http-equiv=\"X-UA-Compatible\" content=\"IE=edge\">\\n \\n\\t<script type=\"text/javascript\">\\n\\t\\tvar pathInfo = {\\n\\t\\t\\tbase: \\'templates/Responsive/\\',\\n\\t\\t\\tcss: \\'css/\\',\\n\\t\\t\\tjs: \\'js/\\',\\n\\t\\t\\tswf: \\'swf/\\',\\n\\t\\t}\\n\\t</script>\\n\\n\\t<meta name=\"viewport\" content=\"width=device-width, initial-scale=1.0\">\\n\\t<!-- <meta name=\"theme-color\" content=\"#0099d9\" /> -->\\n\\t<meta http-equiv=\"content-type\" content=\"text/html; charse'"
      ]
     },
     "execution_count": 52,
     "metadata": {},
     "output_type": "execute_result"
    }
   ],
   "source": [
    "lxml.html.tostring(tree)[:500]"
   ]
  }
 ],
 "metadata": {
  "celltoolbar": "Slideshow",
  "kernelspec": {
   "display_name": "Python 3",
   "language": "python",
   "name": "python3"
  },
  "language_info": {
   "codemirror_mode": {
    "name": "ipython",
    "version": 3
   },
   "file_extension": ".py",
   "mimetype": "text/x-python",
   "name": "python",
   "nbconvert_exporter": "python",
   "pygments_lexer": "ipython3",
   "version": "3.5.3"
  }
 },
 "nbformat": 4,
 "nbformat_minor": 2
}
