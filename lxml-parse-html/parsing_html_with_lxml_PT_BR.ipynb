{
 "cells": [
  {
   "cell_type": "markdown",
   "metadata": {
    "slideshow": {
     "slide_type": "slide"
    }
   },
   "source": [
    "# Parse de documentos HTML com a biblioteca lxml"
   ]
  },
  {
   "cell_type": "markdown",
   "metadata": {
    "slideshow": {
     "slide_type": "slide"
    }
   },
   "source": [
    "## lxml\n",
    "\n",
    "[Link](https://lxml.de/)\n",
    "\n",
    "- Biblioteca (ou _toolkit_) para processar XML e HTML\n",
    "- Novo _binding_ para libs em C com mesmo propósito libxml2 e libxslt, que, apesar de terem _bindings_ para python, são complexos e não pythônicos\n",
    "- Surgiu como alternativa durante trabalho na Aurum para parse complexo de documentos HTML\n",
    "\n",
    "\n",
    "_Binding_: interface para possibilitar que algo escrito em uma linguagem de programação seja usado com outra linguagem"
   ]
  },
  {
   "cell_type": "markdown",
   "metadata": {
    "slideshow": {
     "slide_type": "slide"
    }
   },
   "source": [
    "## Vamos ver código!\n",
    "Esta _talk_ procurou seguir, na medida do possível, a ordem da maravilhosa [documentação do lxml](https://lxml.de/4.3/lxmldoc-4.3.0.pdf), para que ela lhes pareça mais familiar, caso desejem consultá-la."
   ]
  },
  {
   "cell_type": "markdown",
   "metadata": {
    "slideshow": {
     "slide_type": "slide"
    }
   },
   "source": [
    "## O que vamos parsear\n",
    "\n",
    "[Folha informativa - Violência contra as mulheres](https://www.paho.org/bra/index.php?option=com_content&view=article&id=5669:folha-informativa-violencia-contra-as-mulheres&Itemid=820) da OPAS/OMS Brasil (Organização Mundial de Saúde)"
   ]
  },
  {
   "cell_type": "markdown",
   "metadata": {
    "slideshow": {
     "slide_type": "slide"
    }
   },
   "source": [
    "## Do que vamos precisar\n",
    "A `etree` é uma árvore dos elementos do nosso HTML, que podemos iterar, editar, buscar, etc. Parseando nosso HTML com o módulo `html`, vamos criar nossa árvore."
   ]
  },
  {
   "cell_type": "code",
   "execution_count": 122,
   "metadata": {
    "slideshow": {
     "slide_type": "-"
    }
   },
   "outputs": [],
   "source": [
    "import lxml.html\n",
    "\n",
    "\n",
    "tree = lxml.html.parse('opas_violencia_contra_mulheres.html')"
   ]
  },
  {
   "cell_type": "code",
   "execution_count": 123,
   "metadata": {
    "slideshow": {
     "slide_type": "-"
    }
   },
   "outputs": [
    {
     "data": {
      "text/plain": [
       "lxml.etree._ElementTree"
      ]
     },
     "execution_count": 123,
     "metadata": {},
     "output_type": "execute_result"
    }
   ],
   "source": [
    "type(tree)"
   ]
  },
  {
   "cell_type": "code",
   "execution_count": 124,
   "metadata": {
    "scrolled": true,
    "slideshow": {
     "slide_type": "slide"
    }
   },
   "outputs": [
    {
     "data": {
      "text/plain": [
       "b'<!DOCTYPE html>\\n<html xmlns=\"https://www.w3.org/1999/xhtml\" xml:lang=\"pt-br\" lang=\"pt-br\" dir=\"ltr\">\\n<head>\\n\\t<meta http-equiv=\"X-UA-Compatible\" content=\"IE=edge\">\\n \\n\\t<script type=\"text/javascript\">\\n\\t\\tvar pathInfo = {\\n\\t\\t\\tbase: \\'templates/Responsive/\\',\\n\\t\\t\\tcss: \\'css/\\',\\n\\t\\t\\tjs: \\'js/\\',\\n\\t\\t\\tswf: \\'swf/\\',\\n\\t\\t}\\n\\t</script>\\n\\n\\t<meta name=\"viewport\" content=\"width=device-width, initial-scale=1.0\">\\n\\t<!-- <meta name=\"theme-color\" content=\"#0099d9\" /> -->\\n\\t<meta http-equiv=\"content-type\" content=\"text/html; charse'"
      ]
     },
     "execution_count": 124,
     "metadata": {},
     "output_type": "execute_result"
    }
   ],
   "source": [
    "lxml.html.tostring(tree)[:500]"
   ]
  },
  {
   "cell_type": "markdown",
   "metadata": {
    "slideshow": {
     "slide_type": "slide"
    }
   },
   "source": [
    "### Temos bastante coisa que não nos interessa. O que queremos é o que tem no _body_\n",
    "Primeiro, vamos pegar a raiz (_root_) da nossa árvore. A partir dela, conseguimos o _body_."
   ]
  },
  {
   "cell_type": "code",
   "execution_count": 125,
   "metadata": {
    "slideshow": {
     "slide_type": "slide"
    }
   },
   "outputs": [
    {
     "data": {
      "text/plain": [
       "<Element html at 0x7f7e25b90728>"
      ]
     },
     "execution_count": 125,
     "metadata": {},
     "output_type": "execute_result"
    }
   ],
   "source": [
    "root = tree.getroot()\n",
    "root"
   ]
  },
  {
   "cell_type": "code",
   "execution_count": 126,
   "metadata": {
    "slideshow": {
     "slide_type": "-"
    }
   },
   "outputs": [
    {
     "data": {
      "text/plain": [
       "<Element body at 0x7f7e25b90ae8>"
      ]
     },
     "execution_count": 126,
     "metadata": {},
     "output_type": "execute_result"
    }
   ],
   "source": [
    "body = root.body\n",
    "body"
   ]
  },
  {
   "cell_type": "code",
   "execution_count": 127,
   "metadata": {
    "slideshow": {
     "slide_type": "slide"
    }
   },
   "outputs": [
    {
     "data": {
      "text/plain": [
       "b'<body itemscope itemtype=\"https://schema.org/WebPage\">\\n<!-- Google Tag Manager -->\\n<noscript><iframe src=\"//www.googletagmanager.com/ns.html?id=GTM-MDCJXB\" title=\"Google Tag Manager\" style=\"height:0px;width:0px;display:none;visibility:hidden\"><span style=\"visibility:hidden\">Google Tag</span></iframe></noscript>\\n<script type=\"text/javascript\">(function(w,d,s,l,i){w[l]=w[l]||[];w[l].push({\\'gtm.start\\':\\nnew Date().getTime(),event:\\'gtm.js\\'});var f=d.getElementsByTagName(s)[0],\\nj=d.createElement(s),dl'"
      ]
     },
     "execution_count": 127,
     "metadata": {},
     "output_type": "execute_result"
    }
   ],
   "source": [
    "lxml.html.tostring(body)[:500]"
   ]
  },
  {
   "cell_type": "markdown",
   "metadata": {
    "slideshow": {
     "slide_type": "slide"
    }
   },
   "source": [
    "### Agora que temos o body, podemos extrair algumas informações\n",
    "Podemos usar métodos da `etree`, como `findall`, ou o próprio XPath. Existe também um módulo chamado `cssselect`, que precisa ser instalado separadamente."
   ]
  },
  {
   "cell_type": "markdown",
   "metadata": {
    "slideshow": {
     "slide_type": "slide"
    }
   },
   "source": [
    "- Com `findall`, podemos achar todos os elementos correspondentes a uma expressão de XPath simples\n",
    "- Com `find`, o primeiro elemento correpondente somente é trazido\n",
    "- Com `findtext`, temos no retorno já o conteúdo textual do elemento correspondente\n",
    "- Com `iterfind`, nosso retorno é um `generator` de todos os elementos correspondentes"
   ]
  },
  {
   "cell_type": "code",
   "execution_count": 128,
   "metadata": {
    "slideshow": {
     "slide_type": "slide"
    }
   },
   "outputs": [
    {
     "data": {
      "text/plain": [
       "[<Element p at 0x7f7e25bc3138>,\n",
       " <Element p at 0x7f7e25bc3188>,\n",
       " <Element p at 0x7f7e25bc31d8>]"
      ]
     },
     "execution_count": 128,
     "metadata": {},
     "output_type": "execute_result"
    }
   ],
   "source": [
    "body.findall('.//p')[:3]"
   ]
  },
  {
   "cell_type": "code",
   "execution_count": 129,
   "metadata": {
    "slideshow": {
     "slide_type": "-"
    }
   },
   "outputs": [
    {
     "data": {
      "text/plain": [
       "<Element p at 0x7f7e25bc3138>"
      ]
     },
     "execution_count": 129,
     "metadata": {},
     "output_type": "execute_result"
    }
   ],
   "source": [
    "body.find('.//p')"
   ]
  },
  {
   "cell_type": "code",
   "execution_count": 130,
   "metadata": {
    "slideshow": {
     "slide_type": "-"
    }
   },
   "outputs": [
    {
     "data": {
      "text/plain": [
       "'Brasil'"
      ]
     },
     "execution_count": 130,
     "metadata": {},
     "output_type": "execute_result"
    }
   ],
   "source": [
    "body.findtext('.//p')"
   ]
  },
  {
   "cell_type": "code",
   "execution_count": 131,
   "metadata": {
    "slideshow": {
     "slide_type": "-"
    }
   },
   "outputs": [
    {
     "data": {
      "text/plain": [
       "<generator at 0x7f7e25ba04c8>"
      ]
     },
     "execution_count": 131,
     "metadata": {},
     "output_type": "execute_result"
    }
   ],
   "source": [
    "body.iterfind('.//p')"
   ]
  },
  {
   "cell_type": "markdown",
   "metadata": {
    "slideshow": {
     "slide_type": "slide"
    }
   },
   "source": [
    "### Porém, com XPath, temos acesso a todas as _features_, e não apenas expressões simples. Então vamos usar XPath para encontrar no texto algumas estatísticas (percentuais)."
   ]
  },
  {
   "cell_type": "code",
   "execution_count": 132,
   "metadata": {
    "slideshow": {
     "slide_type": "slide"
    }
   },
   "outputs": [
    {
     "data": {
      "text/plain": [
       "['\\n\\t\\tjQuery(window).on(\\'load\\', function () {\\n\\t\\tjQuery(\\'iframe[id^=twitter-widget-]\\').each(function () {\\n\\t\\tvar head = jQuery(this).contents().find(\\'head\\');\\n\\t\\tif (head.length) {\\n\\t\\thead.append(\\'<style type=\"text/css\">.timeline { max-width: 100% !important; width: 100% !important; } .timeline .stream { max-width: none !important; width: 100% !important; }</style>\\');\\n\\t\\t}\\n\\t\\tjQuery(\\'.twitter-timeline\\').append(jQuery(\\'\\'));\\n\\t\\t})\\n\\t\\t});\\n\\t',\n",
       " 'Estimativas globais publicadas pela OMS indicam que aproximadamente uma em cada três mulheres (35%) em todo o mundo sofreram violência física e/ou sexual por parte do parceiro ou de terceiros durante a vida.',\n",
       " 'A maior parte dos casos é de violência infligida por parceiros. Em todo o mundo, quase um terço (30%) das mulheres que estiveram em um relacionamento relatam ter sofrido alguma forma de violência física e/ou sexual na vida por parte de seu parceiro.',\n",
       " 'Globalmente, 38% dos assassinatos de mulheres são cometidos por um parceiro masculino.',\n",
       " 'Entre 15% das mulheres no Japão e 71% das mulheres na Etiópia relataram terem sofrido violência física e/ou sexual por parte de um parceiro em sua vida;']"
      ]
     },
     "execution_count": 132,
     "metadata": {},
     "output_type": "execute_result"
    }
   ],
   "source": [
    "body.xpath('//*/text()[contains(., \"%\")]')[:5]"
   ]
  },
  {
   "cell_type": "markdown",
   "metadata": {
    "slideshow": {
     "slide_type": "slide"
    }
   },
   "source": [
    "### Nosso primeiro resultado não tem nada a ver com estatísticas, é um elemento _script_. Podemos aproveitar e remover todos os scripts, para nossa árvore ficar mais limpa."
   ]
  },
  {
   "cell_type": "code",
   "execution_count": 133,
   "metadata": {
    "slideshow": {
     "slide_type": "slide"
    }
   },
   "outputs": [
    {
     "data": {
      "text/plain": [
       "[]"
      ]
     },
     "execution_count": 133,
     "metadata": {},
     "output_type": "execute_result"
    }
   ],
   "source": [
    "from lxml.html.clean import Cleaner\n",
    "\n",
    "\n",
    "cleaner = Cleaner(scripts=True)\n",
    "body = cleaner.clean_html(body)\n",
    "body.findall('.//script')"
   ]
  },
  {
   "cell_type": "code",
   "execution_count": 134,
   "metadata": {
    "slideshow": {
     "slide_type": "slide"
    }
   },
   "outputs": [
    {
     "data": {
      "text/plain": [
       "['Estimativas globais publicadas pela OMS indicam que aproximadamente uma em cada três mulheres (35%) em todo o mundo sofreram violência física e/ou sexual por parte do parceiro ou de terceiros durante a vida.',\n",
       " 'A maior parte dos casos é de violência infligida por parceiros. Em todo o mundo, quase um terço (30%) das mulheres que estiveram em um relacionamento relatam ter sofrido alguma forma de violência física e/ou sexual na vida por parte de seu parceiro.',\n",
       " 'Globalmente, 38% dos assassinatos de mulheres são cometidos por um parceiro masculino.']"
      ]
     },
     "execution_count": 134,
     "metadata": {},
     "output_type": "execute_result"
    }
   ],
   "source": [
    "body.xpath('//*/text()[contains(., \"%\")]')[:3]"
   ]
  },
  {
   "cell_type": "markdown",
   "metadata": {
    "slideshow": {
     "slide_type": "slide"
    }
   },
   "source": [
    "### Suponhamos que queiramos somente estatísticas do Brasil. Na verdade nenhuma se refere somente ao Brasil, mas _suponhamos_. Se tivéssemos um documento grande, poderia ser útil eliminar esses elementos que não se referem ao Brasil"
   ]
  },
  {
   "cell_type": "code",
   "execution_count": 135,
   "metadata": {
    "slideshow": {
     "slide_type": "slide"
    }
   },
   "outputs": [
    {
     "data": {
      "text/plain": [
       "[]"
      ]
     },
     "execution_count": 135,
     "metadata": {},
     "output_type": "execute_result"
    }
   ],
   "source": [
    "percentage_els = body.xpath('//*[contains(., \"%\")]')\n",
    "\n",
    "for el in percentage_els:\n",
    "    text = el.text_content()\n",
    "    if 'Brasil' not in text and el.tag in ('li', 'p'):\n",
    "        el.getparent().remove(el)\n",
    "        \n",
    "body.xpath('//*[contains(., \"%\")]')"
   ]
  },
  {
   "cell_type": "markdown",
   "metadata": {
    "slideshow": {
     "slide_type": "slide"
    }
   },
   "source": [
    "### Dissecando\n",
    "- `text = el.text_content()`: pegando o texto de um elemento\n",
    "- `if 'Brasil' not in text and el.tag in ('li', 'p')`: se \"Brasil\" não está no texto e o elemento é um item de lista ou um parágrafo\n",
    "- `el.getparent().remove(el)`: pegando o elemento pai do nosso elemento e deletando nosso elemento (assim que removemos um elemento específico)\n",
    "\n",
    "**Atenção!** Nossa lista `percentage_els` ainda contém nossos elementos. Ela é uma cópia de parte do body e fica inalterada."
   ]
  },
  {
   "cell_type": "code",
   "execution_count": 136,
   "metadata": {
    "slideshow": {
     "slide_type": "slide"
    }
   },
   "outputs": [
    {
     "data": {
      "text/plain": [
       "'A violência por parte de parceiro e a violência sexual são perpetradas principalmente por homens contra as mulheres. O abuso sexual infantil afeta meninos e meninas. Estudos internacionais revelam que aproximadamente 20% das mulheres e 5%-10% dos homens relatam terem sido vítimas de violência sexual na infância. A violência entre os jovens, incluindo em relacionamentos, é também um grande problema. \\xa0'"
      ]
     },
     "execution_count": 136,
     "metadata": {},
     "output_type": "execute_result"
    }
   ],
   "source": [
    "percentage_els[-2].text_content()"
   ]
  },
  {
   "cell_type": "markdown",
   "metadata": {
    "slideshow": {
     "slide_type": "slide"
    }
   },
   "source": [
    "### Se quisermos localizar elementos por id ou classe, não precisamos usar XPath. Podemos usar os métodos `find_class` e `get_element_by_id`"
   ]
  },
  {
   "cell_type": "code",
   "execution_count": 137,
   "metadata": {
    "slideshow": {
     "slide_type": "slide"
    }
   },
   "outputs": [
    {
     "name": "stdout",
     "output_type": "stream",
     "text": [
      "Principais informações \n",
      "Magnitude do problema\n",
      "Fatores de risco \n",
      "Consequências para a saúde   \n",
      "Impacto em crianças \n",
      "Custos sociais e econômicos  \n",
      "Prevenção e resposta  \n",
      "Resposta da OMS\n",
      "Dia Laranja\n"
     ]
    }
   ],
   "source": [
    "topics = body.find_class('bkbutton')\n",
    "\n",
    "for el in topics:\n",
    "    print(el.text_content())"
   ]
  },
  {
   "cell_type": "code",
   "execution_count": 138,
   "metadata": {
    "slideshow": {
     "slide_type": "-"
    }
   },
   "outputs": [
    {
     "data": {
      "text/plain": [
       "<Element footer at 0x7f7e25bad598>"
      ]
     },
     "execution_count": 138,
     "metadata": {},
     "output_type": "execute_result"
    }
   ],
   "source": [
    "body.get_element_by_id('footer')"
   ]
  },
  {
   "cell_type": "markdown",
   "metadata": {
    "slideshow": {
     "slide_type": "slide"
    }
   },
   "source": [
    "### Aproveitando que fizemos um `get_parent`, vamos ver algumas formas de \"navegar\" pela nossa árvore com métodos da `etree`"
   ]
  },
  {
   "cell_type": "markdown",
   "metadata": {
    "slideshow": {
     "slide_type": "slide"
    }
   },
   "source": [
    "Pegar elementos filhos"
   ]
  },
  {
   "cell_type": "code",
   "execution_count": 139,
   "metadata": {
    "slideshow": {
     "slide_type": "-"
    }
   },
   "outputs": [
    {
     "data": {
      "text/plain": [
       "[<Element noscript at 0x7f7e25b905e8>, <Element div at 0x7f7e25bc3cc8>]"
      ]
     },
     "execution_count": 139,
     "metadata": {},
     "output_type": "execute_result"
    }
   ],
   "source": [
    "body.getchildren()"
   ]
  },
  {
   "cell_type": "markdown",
   "metadata": {
    "slideshow": {
     "slide_type": "slide"
    }
   },
   "source": [
    "Iterador dos descendentes"
   ]
  },
  {
   "cell_type": "code",
   "execution_count": 140,
   "metadata": {
    "slideshow": {
     "slide_type": "-"
    }
   },
   "outputs": [
    {
     "data": {
      "text/plain": [
       "[<Element noscript at 0x7f7e25b905e8>,\n",
       " <Element span at 0x7f7e25b90818>,\n",
       " <Element div at 0x7f7e25bc3cc8>,\n",
       " <Element div at 0x7f7e25bad548>,\n",
       " <Element header at 0x7f7e25bad5e8>]"
      ]
     },
     "execution_count": 140,
     "metadata": {},
     "output_type": "execute_result"
    }
   ],
   "source": [
    "list(body.iterdescendants())[:5]"
   ]
  },
  {
   "cell_type": "markdown",
   "metadata": {
    "slideshow": {
     "slide_type": "slide"
    }
   },
   "source": [
    "Iterador dos ascendentes"
   ]
  },
  {
   "cell_type": "code",
   "execution_count": 141,
   "metadata": {
    "slideshow": {
     "slide_type": "-"
    }
   },
   "outputs": [
    {
     "data": {
      "text/plain": [
       "[<Element body at 0x7f7e25bc3098>]"
      ]
     },
     "execution_count": 141,
     "metadata": {},
     "output_type": "execute_result"
    }
   ],
   "source": [
    "list(body.getchildren()[0].iterancestors())"
   ]
  },
  {
   "cell_type": "markdown",
   "metadata": {
    "slideshow": {
     "slide_type": "slide"
    }
   },
   "source": [
    "Pegar próximo elemento"
   ]
  },
  {
   "cell_type": "code",
   "execution_count": 142,
   "metadata": {
    "slideshow": {
     "slide_type": "-"
    }
   },
   "outputs": [
    {
     "data": {
      "text/plain": [
       "<Element div at 0x7f7e25bc3cc8>"
      ]
     },
     "execution_count": 142,
     "metadata": {},
     "output_type": "execute_result"
    }
   ],
   "source": [
    "body.getchildren()[0].getnext()"
   ]
  },
  {
   "cell_type": "markdown",
   "metadata": {
    "slideshow": {
     "slide_type": "slide"
    }
   },
   "source": [
    "Iterar sobre próximos irmãos"
   ]
  },
  {
   "cell_type": "code",
   "execution_count": 143,
   "metadata": {
    "slideshow": {
     "slide_type": "-"
    }
   },
   "outputs": [
    {
     "data": {
      "text/plain": [
       "[<Element div at 0x7f7e25bc3cc8>]"
      ]
     },
     "execution_count": 143,
     "metadata": {},
     "output_type": "execute_result"
    }
   ],
   "source": [
    "list(body.getchildren()[0].itersiblings())"
   ]
  },
  {
   "cell_type": "markdown",
   "metadata": {
    "slideshow": {
     "slide_type": "slide"
    }
   },
   "source": [
    "Pegar elemento anterior"
   ]
  },
  {
   "cell_type": "code",
   "execution_count": 144,
   "metadata": {
    "slideshow": {
     "slide_type": "-"
    }
   },
   "outputs": [
    {
     "data": {
      "text/plain": [
       "<Element noscript at 0x7f7e25b905e8>"
      ]
     },
     "execution_count": 144,
     "metadata": {},
     "output_type": "execute_result"
    }
   ],
   "source": [
    "body.getchildren()[1].getprevious()"
   ]
  },
  {
   "cell_type": "markdown",
   "metadata": {
    "slideshow": {
     "slide_type": "slide"
    }
   },
   "source": [
    "Pegar a árvore original"
   ]
  },
  {
   "cell_type": "code",
   "execution_count": 145,
   "metadata": {
    "slideshow": {
     "slide_type": "-"
    }
   },
   "outputs": [
    {
     "data": {
      "text/plain": [
       "<lxml.etree._ElementTree at 0x7f7e25a8fa08>"
      ]
     },
     "execution_count": 145,
     "metadata": {},
     "output_type": "execute_result"
    }
   ],
   "source": [
    "body.getroottree()"
   ]
  },
  {
   "cell_type": "markdown",
   "metadata": {
    "slideshow": {
     "slide_type": "slide"
    }
   },
   "source": [
    "# Obrigada :)\n",
    "<br>\n",
    "\n",
    "- GitHub: alana91\n",
    "- Telegram: AlanaDB\n",
    "- E-mail: alanadomitbittar@pm.me\n",
    "- Linkedin: https://www.linkedin.com/in/alanadomitbittar/"
   ]
  }
 ],
 "metadata": {
  "celltoolbar": "Slideshow",
  "kernelspec": {
   "display_name": "Python 3",
   "language": "python",
   "name": "python3"
  },
  "language_info": {
   "codemirror_mode": {
    "name": "ipython",
    "version": 3
   },
   "file_extension": ".py",
   "mimetype": "text/x-python",
   "name": "python",
   "nbconvert_exporter": "python",
   "pygments_lexer": "ipython3",
   "version": "3.5.3"
  }
 },
 "nbformat": 4,
 "nbformat_minor": 2
}
